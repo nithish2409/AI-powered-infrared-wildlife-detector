{
 "cells": [
  {
   "cell_type": "code",
   "execution_count": 1,
   "id": "f0d07fe9",
   "metadata": {},
   "outputs": [
    {
     "name": "stdout",
     "output_type": "stream",
     "text": [
      "Ultralytics 8.3.204  Python-3.13.7 torch-2.8.0+cu129 CUDA:0 (NVIDIA GeForce RTX 4060 Laptop GPU, 8188MiB)\n",
      "YOLOv12s summary (fused): 159 layers, 9,237,459 parameters, 0 gradients, 21.2 GFLOPs\n",
      "\u001b[34m\u001b[1mval: \u001b[0mFast image access  (ping: 0.10.0 ms, read: 280.4106.3 MB/s, size: 262.7 KB)\n",
      "\u001b[K\u001b[34m\u001b[1mval: \u001b[0mScanning C:\\Users\\nithi\\Projects\\AI-Powered Wildlife Detection\\datasets\\labels\\val.cache... 2069 images, 0 backgrounds, 0 corrupt: 100% ━━━━━━━━━━━━ 2069/2069 1.5Mit/s 0.0s0s\n",
      "\u001b[K                 Class     Images  Instances      Box(P          R      mAP50  mAP50-95): 100% ━━━━━━━━━━━━ 130/130 5.7it/s 22.8s0.2s\n",
      "                   all       2069       2150      0.979       0.97      0.987      0.882\n",
      "             AmurTiger        120        120      0.998          1      0.995       0.94\n",
      "                Badger         79         83      0.986      0.976      0.993      0.858\n",
      "             BlackBear         79         83      0.965      0.964      0.977      0.856\n",
      "                   Cow         19         21      0.979      0.905      0.928      0.836\n",
      "                   Dog         19         19          1      0.939       0.98      0.919\n",
      "                  Hare        261        261      0.997      0.996      0.995      0.938\n",
      "               Leopard         87         88      0.987      0.977      0.994      0.912\n",
      "            LeopardCat        205        205      0.985      0.979      0.994      0.891\n",
      "              MuskDeer        200        200       0.99      0.995      0.995      0.949\n",
      "            RaccoonDog        222        241      0.984      0.988      0.993      0.844\n",
      "                RedFox        150        150      0.967      0.984      0.992      0.877\n",
      "               RoeDeer         99        115      0.982      0.938      0.983      0.883\n",
      "                 Sable         83         90      0.989      0.987      0.993      0.828\n",
      "              SikaDeer        139        152       0.96      0.943      0.987      0.908\n",
      "                Weasel        110        110      0.994      0.955      0.992      0.789\n",
      "              WildBoar        171        182      0.978      0.975      0.992      0.882\n",
      "            Y.T.Marten         26         30      0.909      0.996      0.991      0.892\n",
      "Speed: 0.2ms preprocess, 6.5ms inference, 0.0ms loss, 1.2ms postprocess per image\n",
      "Results saved to \u001b[1mC:\\Users\\nithi\\Projects\\AI-Powered Wildlife Detection\\Scripts\\runs\\detect\\val\u001b[0m\n",
      "0.8824636407506078\n",
      "0.9867183385785244\n"
     ]
    }
   ],
   "source": [
    "from ultralytics import YOLO\n",
    "\n",
    "# Load your best trained model from the specific training run\n",
    "model = YOLO('./runs/detect/train5/weights/best.pt')\n",
    "\n",
    "# Evaluate the model's performance on the validation set\n",
    "metrics = model.val(data='../datasets/wildlife_dataset.yaml')\n",
    "\n",
    "# The 'metrics' object contains all the results, which are also printed to the screen.\n",
    "print(metrics.box.map)    # Print mAP50-95\n",
    "print(metrics.box.map50)  # Print mAP50"
   ]
  }
 ],
 "metadata": {
  "kernelspec": {
   "display_name": "venv",
   "language": "python",
   "name": "python3"
  },
  "language_info": {
   "codemirror_mode": {
    "name": "ipython",
    "version": 3
   },
   "file_extension": ".py",
   "mimetype": "text/x-python",
   "name": "python",
   "nbconvert_exporter": "python",
   "pygments_lexer": "ipython3",
   "version": "3.13.7"
  }
 },
 "nbformat": 4,
 "nbformat_minor": 5
}
